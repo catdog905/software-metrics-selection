{
 "cells": [
  {
   "cell_type": "markdown",
   "metadata": {
    "id": "7XHGcJLGlYyr"
   },
   "source": [
    "# Load data"
   ]
  },
  {
   "cell_type": "markdown",
   "metadata": {},
   "source": [
    "## Download data"
   ]
  },
  {
   "cell_type": "code",
   "execution_count": 1,
   "metadata": {
    "colab": {
     "base_uri": "https://localhost:8080/"
    },
    "id": "iJgaUmZ6PT9D",
    "outputId": "e37de602-ee63-451b-916d-3057153e1a47"
   },
   "outputs": [
    {
     "name": "stdout",
     "output_type": "stream",
     "text": [
      "--2025-02-24 15:29:49--  http://cam.yegor256.com/cam-2024-03-02.zip\n",
      "16.182.105.181, 54.231.134.189, 52.216.209.237, ...\n",
      "connected. to cam.yegor256.com (cam.yegor256.com)|16.182.105.181|:80... \n",
      "200 OKequest sent, awaiting response... \n",
      "Length: 2224871047 (2.1G) [application/zip]\n",
      "Saving to: ‘cam-2024-03-02.zip’\n",
      "\n",
      "cam-2024-03-02.zip  100%[===================>]   2.07G  27.0MB/s    in 86s     \n",
      "\n",
      "2025-02-24 15:31:16 (24.6 MB/s) - ‘cam-2024-03-02.zip’ saved [2224871047/2224871047]\n",
      "\n"
     ]
    }
   ],
   "source": [
    "!wget http://cam.yegor256.com/cam-2024-03-02.zip"
   ]
  },
  {
   "cell_type": "code",
   "execution_count": 9,
   "metadata": {
    "colab": {
     "base_uri": "https://localhost:8080/"
    },
    "id": "qv80mlMUP0Fh",
    "outputId": "b0c8c6b0-7676-44b7-e410-72f62e896d83"
   },
   "outputs": [
    {
     "name": "stdout",
     "output_type": "stream",
     "text": [
      "Archive:  cam-2024-03-02.zip\n",
      "  inflating: data/all.csv            \n"
     ]
    }
   ],
   "source": [
    "!unzip 'cam-2024-03-02.zip' data/all.csv"
   ]
  },
  {
   "cell_type": "markdown",
   "metadata": {},
   "source": [
    "## Prepare data"
   ]
  },
  {
   "cell_type": "code",
   "execution_count": 1,
   "metadata": {
    "id": "HbjbyTZWF8Ly"
   },
   "outputs": [],
   "source": [
    "import pandas as pd"
   ]
  },
  {
   "cell_type": "code",
   "execution_count": 2,
   "metadata": {
    "colab": {
     "base_uri": "https://localhost:8080/"
    },
    "id": "W-QDczguLC9a",
    "outputId": "c05a605e-65a4-4de6-bbb0-b117f25438a8"
   },
   "outputs": [
    {
     "name": "stderr",
     "output_type": "stream",
     "text": [
      "/tmp/ipykernel_4133/768771887.py:4: DtypeWarning: Columns (3,6,8,17,23,24,25,26,30,31,33,35,36,37,38,39,40,41,42,43,44,46,49,50) have mixed types. Specify dtype option on import or set low_memory=False.\n",
      "  df = pd.read_csv('data/all.csv', on_bad_lines='skip', names=(['repo', 'class'] + list(range(49))), skiprows=1)\n"
     ]
    }
   ],
   "source": [
    "import os\n",
    "\n",
    "csv_files = [os.path.basename(f)[:-4] for f in os.listdir('data/') if f.endswith('.csv')]\n",
    "df = pd.read_csv('data/all.csv', on_bad_lines='skip', names=(['repo', 'class'] + list(range(49))), skiprows=1)"
   ]
  },
  {
   "cell_type": "code",
   "execution_count": 3,
   "metadata": {
    "colab": {
     "base_uri": "https://localhost:8080/"
    },
    "id": "4yJuEGjGdbQA",
    "outputId": "46719598-9e31-4c79-8b45-1346665e664d"
   },
   "outputs": [
    {
     "name": "stderr",
     "output_type": "stream",
     "text": [
      "/tmp/ipykernel_4133/3410292437.py:5: FutureWarning: Downcasting behavior in `replace` is deprecated and will be removed in a future version. To retain the old behavior, explicitly call `result.infer_objects(copy=False)`. To opt-in to the future behavior, set `pd.set_option('future.no_silent_downcasting', True)`\n",
      "  imputed_df = imputer.fit_transform(df.replace('-', np.nan).drop(['repo', 'class'], axis = 1).astype(\"float32\"))\n",
      "/home/admin/jupyter_lab/venv/lib/python3.12/site-packages/sklearn/impute/_base.py:635: UserWarning: Skipping features without any observed values: [11]. At least one non-missing value is needed for imputation with strategy='mean'.\n",
      "  warnings.warn(\n"
     ]
    }
   ],
   "source": [
    "from sklearn.impute import SimpleImputer\n",
    "import numpy as np\n",
    "\n",
    "imputer = SimpleImputer(strategy='mean')\n",
    "imputed_df = imputer.fit_transform(df.replace('-', np.nan).drop(['repo', 'class'], axis = 1).astype(\"float32\"))"
   ]
  },
  {
   "cell_type": "code",
   "execution_count": null,
   "metadata": {
    "colab": {
     "base_uri": "https://localhost:8080/",
     "height": 599
    },
    "execution": {
     "iopub.status.busy": "2025-02-24T11:53:24.943763Z",
     "iopub.status.idle": "2025-02-24T11:53:24.944131Z",
     "shell.execute_reply": "2025-02-24T11:53:24.943962Z"
    },
    "id": "wBd61vVYng23",
    "outputId": "349e3461-b121-4a85-a04a-b5f1860724ec"
   },
   "outputs": [],
   "source": [
    "import matplotlib.pyplot as plt\n",
    "\n",
    "plt.figure(figsize=(10, 6))\n",
    "scatter = plt.scatter(X_embedded[:, 0], X_embedded[:, 1], cmap='tab10', alpha=0.7)\n",
    "plt.colorbar(scatter, label=\"Classes\")\n",
    "plt.title(\"t-SNE Visualization\")\n",
    "plt.xlabel(\"t-SNE Component 1\")\n",
    "plt.ylabel(\"t-SNE Component 2\")\n",
    "plt.show()"
   ]
  },
  {
   "cell_type": "markdown",
   "metadata": {
    "id": "uCjip0afd_e2"
   },
   "source": [
    "# Dissimilarity"
   ]
  },
  {
   "cell_type": "code",
   "execution_count": 4,
   "metadata": {},
   "outputs": [
    {
     "name": "stderr",
     "output_type": "stream",
     "text": [
      "2025-02-24 20:08:04.820514: I tensorflow/core/util/port.cc:153] oneDNN custom operations are on. You may see slightly different numerical results due to floating-point round-off errors from different computation orders. To turn them off, set the environment variable `TF_ENABLE_ONEDNN_OPTS=0`.\n",
      "2025-02-24 20:08:04.833994: E external/local_xla/xla/stream_executor/cuda/cuda_fft.cc:477] Unable to register cuFFT factory: Attempting to register factory for plugin cuFFT when one has already been registered\n",
      "WARNING: All log messages before absl::InitializeLog() is called are written to STDERR\n",
      "E0000 00:00:1740427684.849132    4133 cuda_dnn.cc:8310] Unable to register cuDNN factory: Attempting to register factory for plugin cuDNN when one has already been registered\n",
      "E0000 00:00:1740427684.853677    4133 cuda_blas.cc:1418] Unable to register cuBLAS factory: Attempting to register factory for plugin cuBLAS when one has already been registered\n",
      "2025-02-24 20:08:04.868909: I tensorflow/core/platform/cpu_feature_guard.cc:210] This TensorFlow binary is optimized to use available CPU instructions in performance-critical operations.\n",
      "To enable the following instructions: AVX2 AVX512F AVX512_VNNI FMA, in other operations, rebuild TensorFlow with the appropriate compiler flags.\n"
     ]
    },
    {
     "name": "stdout",
     "output_type": "stream",
     "text": [
      "[PhysicalDevice(name='/physical_device:GPU:0', device_type='GPU')]\n"
     ]
    }
   ],
   "source": [
    "import tensorflow as tf\n",
    "import gc\n",
    "print(tf.config.list_physical_devices('GPU'))\n",
    "\n",
    "def remove_unused_objects():\n",
    "    tf.keras.backend.clear_session()\n",
    "    gc.collect()"
   ]
  },
  {
   "cell_type": "code",
   "execution_count": 15,
   "metadata": {
    "id": "hzfS8dA5eDjK"
   },
   "outputs": [],
   "source": [
    "from abc import ABC, abstractmethod\n",
    "import tensorflow as tf\n",
    "import numpy as np\n",
    "\n",
    "class DissimilarityFunc(ABC):\n",
    "\n",
    "    @abstractmethod\n",
    "    def calculate(tf1: np.ndarray, tf2: np.ndarray) -> float:\n",
    "        pass\n"
   ]
  },
  {
   "cell_type": "code",
   "execution_count": 18,
   "metadata": {},
   "outputs": [],
   "source": [
    "class KruskalDissimilarity(DissimilarityFunc):\n",
    "\n",
    "    def __init__(self, batch_size: int = 3072):\n",
    "        self.batch_size = batch_size\n",
    "\n",
    "    def calculate(self, df1: np.ndarray, df2: np.ndarray) -> float:\n",
    "\n",
    "        def distance(tf1: tf.Tensor, tf2: tf.Tensor):\n",
    "            return np.sqrt(tf.reduce_sum(tf.square(tf1 - tf2)).numpy())\n",
    "        \n",
    "        def pairwise_function(pairs):\n",
    "            return tf.reduce_sum(tf.abs(pairs[..., 0] - pairs[..., 1]))\n",
    "    \n",
    "        def combinations_distances(tensor, distance_func):\n",
    "            n = tf.shape(tensor)[0]\n",
    "    \n",
    "            i_idx, j_idx = tf.meshgrid(tf.range(n), tf.range(n), indexing='ij')\n",
    "            mask = i_idx < j_idx\n",
    "            i_idx_upper = tf.boolean_mask(i_idx, mask)\n",
    "            j_idx_upper = tf.boolean_mask(j_idx, mask)\n",
    "    \n",
    "            indices_upper = tf.stack([i_idx_upper, j_idx_upper], axis=-1)\n",
    "            pairs = tf.gather(tensor, indices_upper)\n",
    "            result = tf.vectorized_map(pairwise_function, pairs)\n",
    "            del i_idx, j_idx, mask, i_idx_upper, j_idx_upper, indices_upper, pairs\n",
    "            return result\n",
    "    \n",
    "        total_numerator = 0.0\n",
    "        total_denominator = 0.0\n",
    "    \n",
    "        num_batches = (df1.shape[0] + self.batch_size - 1) // self.batch_size\n",
    "    \n",
    "        for batch_idx in range(num_batches):\n",
    "            start_idx = batch_idx * self.batch_size\n",
    "            end_idx = min((batch_idx + 1) * self.batch_size, df1.shape[0])\n",
    "    \n",
    "            df1_batch = tf.convert_to_tensor(df1[start_idx:end_idx], dtype=tf.float64)\n",
    "            df2_batch = tf.convert_to_tensor(df2[start_idx:end_idx], dtype=tf.float64)\n",
    "    \n",
    "            df1_distances = combinations_distances(df1_batch, distance)\n",
    "            df2_distances = combinations_distances(df2_batch, distance)\n",
    "    \n",
    "            batch_numerator = tf.reduce_sum(tf.square(df1_distances - df2_distances))\n",
    "            batch_denominator = tf.reduce_sum(tf.square(df1_distances))\n",
    "    \n",
    "            total_numerator += batch_numerator\n",
    "            total_denominator += batch_denominator\n",
    "    \n",
    "            del df1_batch, df2_batch, df1_distances, df2_distances, batch_numerator, batch_denominator\n",
    "            tf.keras.backend.clear_session()\n",
    "            gc.collect()\n",
    "    \n",
    "        dissimilarity = tf.sqrt(total_numerator) / tf.sqrt(total_denominator)\n",
    "    \n",
    "        return dissimilarity.numpy()"
   ]
  },
  {
   "cell_type": "code",
   "execution_count": 19,
   "metadata": {},
   "outputs": [
    {
     "data": {
      "text/plain": [
       "np.float64(17.0)"
      ]
     },
     "execution_count": 19,
     "metadata": {},
     "output_type": "execute_result"
    }
   ],
   "source": [
    "KruskalDissimilarity().calculate(\n",
    "    np.array([[1, 2, 3, 4], [2, 4, 6, 8]]),\n",
    "    np.array([[1, 2], [2, 55]])\n",
    ")"
   ]
  },
  {
   "cell_type": "markdown",
   "metadata": {
    "id": "0rOyVVhbnCRJ"
   },
   "source": [
    "# Optimization algorithm"
   ]
  },
  {
   "cell_type": "code",
   "execution_count": 23,
   "metadata": {
    "id": "VE9yVVj8wFQ7"
   },
   "outputs": [],
   "source": [
    "from sko.PSO import PSO\n",
    "from typing import Callable, Tuple\n",
    "from pydantic import BaseModel\n",
    "import time\n",
    "\n",
    "class TrainingArguments(BaseModel):\n",
    "  func: Callable[..., float]\n",
    "  dim: int\n",
    "  pop: int\n",
    "  max_iter: int\n",
    "  lower_bound: list[float]\n",
    "  upper_bound: list[float]\n",
    "  w: float | None = None\n",
    "  c1: float | None = None\n",
    "  c2: float | None = None\n",
    "\n",
    "def trainingWithDim(\n",
    "    func: Callable[[Tuple[int, ...], int], float],\n",
    "    dim, target_dim, pop, max_iter, w = None, c1 = None, c2 = None\n",
    "):\n",
    "  return TrainingArguments(\n",
    "      func=lambda x: func(x[:-1], x[-1]),\n",
    "      dim=dim + 1,\n",
    "      pop=pop,\n",
    "      max_iter=max_iter,\n",
    "      lower_bound = ([0] * dim) + [2],\n",
    "      upper_bound = ([1] * dim) + [target_dim],\n",
    "      w = w,\n",
    "      c1 = c1,\n",
    "      c2 = c2,\n",
    "  )\n",
    "\n",
    "# Probs = Probabilities\n",
    "# returns function that can be supplied to training algorithm\n",
    "def trainingFunction(\n",
    "    df: np.ndarray,\n",
    "    dissimilarityFunc: DissimilarityFunc\n",
    "    ) -> float:\n",
    "  def optimizationFunction(featuresProbs, dimNumberProbs):\n",
    "    t1 = time.time()\n",
    "    topProbColumnsIdxs = sorted(enumerate(featuresProbs), key=lambda x: x[1], reverse=True)\n",
    "    idxs = list(sorted(list(map(lambda el: round(el[0]), topProbColumnsIdxs[:round(dimNumberProbs)]))))\n",
    "    dissimilarity = dissimilarityFunc.calculate(df, df[:, idxs])\n",
    "    t2 = time.time()\n",
    "    print(f\"Er: {dissimilarity}({round(dimNumberProbs)}) of {idxs}. Took {t2 - t1} to run optim func\")\n",
    "    return dissimilarity\n",
    "  return optimizationFunction"
   ]
  },
  {
   "cell_type": "code",
   "execution_count": 24,
   "metadata": {},
   "outputs": [],
   "source": [
    "def categoricalPso(trainingArguments: TrainingArguments):\n",
    "  hyperparameters = dict()\n",
    "  hyperparameters.update({\"w\": trainingArguments.w}) if trainingArguments.w is not None else ()\n",
    "  hyperparameters.update({\"c1\": trainingArguments.c1}) if trainingArguments.c1 is not None else ()\n",
    "  hyperparameters.update({\"c2\": trainingArguments.c2}) if trainingArguments.c2 is not None else ()\n",
    "  return PSO(\n",
    "      func=trainingArguments.func,\n",
    "      n_dim=trainingArguments.dim,\n",
    "      pop=trainingArguments.pop,\n",
    "      max_iter=trainingArguments.max_iter,\n",
    "      lb=trainingArguments.lower_bound,\n",
    "      ub=trainingArguments.upper_bound,\n",
    "      verbose=True,\n",
    "      **hyperparameters\n",
    "  )"
   ]
  },
  {
   "cell_type": "code",
   "execution_count": null,
   "metadata": {
    "colab": {
     "base_uri": "https://localhost:8080/"
    },
    "id": "JvpbWrvi3ejS",
    "outputId": "0c7688c2-546d-4d07-e460-b017872c67c6"
   },
   "outputs": [],
   "source": [
    "\n",
    "catPsoWithDim = categoricalPso(\n",
    "  trainingWithDim(\n",
    "    func=trainingFunction(imputed_df[np.random.choice(imputed_df.shape[0], size=50000, replace=False)], KruskalDissimilarity()),\n",
    "    dim=imputed_df.shape[1],\n",
    "    target_dim=5,\n",
    "    pop=100,\n",
    "    max_iter=3\n",
    "  )\n",
    ")"
   ]
  },
  {
   "cell_type": "code",
   "execution_count": 13,
   "metadata": {},
   "outputs": [],
   "source": [
    "import dill\n",
    "\n",
    "with open('cat_pso_with_dim_init_50000.dill', 'wb') as f:\n",
    "    dill.dump(catPsoWithDim, f)"
   ]
  },
  {
   "cell_type": "code",
   "execution_count": 42,
   "metadata": {},
   "outputs": [
    {
     "name": "stdout",
     "output_type": "stream",
     "text": [
      "Er: 0.9977779957360353(3) of [2, 3, 4]. Took 8.828739404678345 to run optim func\n",
      "Er: 0.9938203166282895(2) of [2, 12]. Took 8.875041007995605 to run optim func\n",
      "Er: 94588856.58225007(5) of [8, 9, 20, 31, 35]. Took 8.831591844558716 to run optim func\n",
      "Er: 3.552939571225447(2) of [4, 5]. Took 8.864304304122925 to run optim func\n",
      "Er: 3.4281690865381167(3) of [0, 4, 6]. Took 8.830193758010864 to run optim func\n",
      "Er: 0.9927244001668996(5) of [1, 3, 11, 22, 29]. Took 8.7992103099823 to run optim func\n",
      "Er: 0.03150536445301944(2) of [0, 2]. Took 8.806965827941895 to run optim func\n",
      "Er: 94588889.8206531(5) of [9, 20, 22, 27, 37]. Took 8.997760772705078 to run optim func\n",
      "Er: 0.028193402040551107(4) of [0, 3, 10, 20]. Took 8.928230047225952 to run optim func\n",
      "Er: 0.028193402040551107(4) of [0, 3, 4, 7]. Took 8.908781290054321 to run optim func\n",
      "Er: 3.442579533488147(2) of [4, 12]. Took 8.89612364768982 to run optim func\n",
      "Er: 0.03150536445301944(2) of [0, 2]. Took 8.809745788574219 to run optim func\n",
      "Er: 6.663611349361991(5) of [5, 11, 15, 24, 26]. Took 8.771284341812134 to run optim func\n",
      "Er: 3.552939571225447(5) of [4, 5, 15, 16, 30]. Took 8.79055142402649 to run optim func\n",
      "Er: 1.312690592701462(5) of [20, 35, 39, 40, 43]. Took 8.906307697296143 to run optim func\n",
      "Er: 2012.9657963427592(4) of [8, 10, 13, 19]. Took 8.867904424667358 to run optim func\n",
      "Er: 6.666517167722234(5) of [3, 5, 7, 10, 15]. Took 8.748982429504395 to run optim func\n",
      "Er: 0.03150536445301944(2) of [0, 2]. Took 8.823671817779541 to run optim func\n",
      "Er: 38.43218710625997(5) of [3, 8, 13, 22, 25]. Took 8.898829221725464 to run optim func\n",
      "Er: 0.9934032731026722(4) of [1, 11, 13, 15]. Took 8.711930513381958 to run optim func\n",
      "Er: 0.9927244001668996(2) of [1, 3]. Took 8.89635157585144 to run optim func\n",
      "Er: 0.028193402040551107(3) of [0, 3, 5]. Took 8.96423625946045 to run optim func\n",
      "Er: 94588889.82167241(3) of [9, 11, 13]. Took 8.78611707687378 to run optim func\n",
      "Er: 3.4471356801011668(4) of [3, 4, 7, 8]. Took 8.684208869934082 to run optim func\n",
      "Er: 6.663915146069171(2) of [5, 12]. Took 8.878941535949707 to run optim func\n",
      "Er: 0.9923089143357534(5) of [1, 2, 6, 12, 16]. Took 8.850868701934814 to run optim func\n",
      "Er: 0.041836072607570524(2) of [0, 6]. Took 8.710199356079102 to run optim func\n",
      "Er: 0.9977779957360353(2) of [2, 3]. Took 8.87339997291565 to run optim func\n",
      "Er: 0.03150536445301944(4) of [0, 2, 6, 21]. Took 8.901242017745972 to run optim func\n",
      "Er: 38.42153032855418(2) of [0, 8]. Took 8.839834690093994 to run optim func\n",
      "Er: 0.995330786677149(4) of [3, 11, 20, 26]. Took 8.772692680358887 to run optim func\n",
      "Er: 6.667179773821045(2) of [5, 14]. Took 8.788257598876953 to run optim func\n",
      "Er: 1.290602942396626(2) of [7, 30]. Took 8.863378286361694 to run optim func\n",
      "Er: 0.995330786677149(4) of [3, 11, 16, 18]. Took 8.828866481781006 to run optim func\n",
      "Er: 1.2696907463489504(2) of [7, 16]. Took 8.851760387420654 to run optim func\n",
      "Er: 0.9916685821841694(3) of [1, 6, 12]. Took 8.904911518096924 to run optim func\n",
      "Er: 26.634367839819742(2) of [13, 16]. Took 8.81864070892334 to run optim func\n",
      "Er: 0.0(5) of [0, 1, 4, 11, 14]. Took 8.762622356414795 to run optim func\n",
      "Er: 0.9944098298311174(3) of [2, 6, 10]. Took 8.795647621154785 to run optim func\n",
      "Er: 6.663614537411631(4) of [1, 5, 9, 12]. Took 8.749570846557617 to run optim func\n",
      "Er: 3.442032723868346(2) of [4, 11]. Took 8.707334518432617 to run optim func\n",
      "Er: 2.969768132698788(3) of [20, 26, 28]. Took 8.793426036834717 to run optim func\n",
      "Er: 0.9977779957360353(4) of [2, 3, 9, 12]. Took 8.794095993041992 to run optim func\n",
      "Er: 0.995330786677149(3) of [3, 11, 14]. Took 8.766436338424683 to run optim func\n",
      "Er: 0.9934032731026722(5) of [1, 11, 12, 15, 28]. Took 8.819087028503418 to run optim func\n",
      "Er: 38.43315148954093(3) of [2, 8, 14]. Took 8.803099393844604 to run optim func\n",
      "Er: 2032.539307727694(2) of [10, 11]. Took 8.895076751708984 to run optim func\n",
      "Er: 1.252112381420469(2) of [7, 11]. Took 8.822677373886108 to run optim func\n",
      "Er: 5.311611114585549(4) of [15, 17, 32, 33]. Took 8.880065679550171 to run optim func\n",
      "Er: 0.027072950903698798(5) of [0, 12, 24, 26, 35]. Took 8.839534997940063 to run optim func\n",
      "Er: 5.2202811102287665(4) of [15, 18, 20, 25]. Took 8.716540575027466 to run optim func\n",
      "Er: 94588889.81316468(5) of [0, 9, 10, 11, 21]. Took 8.877040147781372 to run optim func\n",
      "Er: 0.028193402040551107(2) of [0, 3]. Took 8.72886347770691 to run optim func\n",
      "Er: 3.452825559427878(2) of [4, 6]. Took 8.784345626831055 to run optim func\n",
      "Er: 6.667179773821045(3) of [5, 14, 15]. Took 8.863364219665527 to run optim func\n",
      "Er: 0.9927244001668996(5) of [1, 3, 5, 6, 8]. Took 8.856590986251831 to run optim func\n",
      "Er: 38.36253928185623(5) of [7, 8, 10, 16, 18]. Took 8.82764458656311 to run optim func\n",
      "Er: 38.430915367240495(3) of [1, 8, 9]. Took 8.717499494552612 to run optim func\n",
      "Er: 0.041836072607570524(4) of [0, 6, 10, 13]. Took 8.839650630950928 to run optim func\n",
      "Er: 0.9802660514054872(3) of [1, 20, 21]. Took 8.823411703109741 to run optim func\n",
      "Er: 0.03150536445301944(5) of [0, 2, 4, 10, 13]. Took 8.81566309928894 to run optim func\n",
      "Er: 94588888.27640177(5) of [4, 9, 12, 15, 19]. Took 8.869220495223999 to run optim func\n",
      "Er: 0.9953229038150103(2) of [2, 14]. Took 8.979084730148315 to run optim func\n",
      "Er: 6.654822252903935(5) of [5, 18, 26, 40, 47]. Took 8.896165609359741 to run optim func\n",
      "Er: 37.616003134573965(3) of [4, 8, 18]. Took 8.895540475845337 to run optim func\n",
      "Er: 0.9923089143357534(3) of [1, 2, 5]. Took 8.82442307472229 to run optim func\n",
      "Er: 94588889.77544358(5) of [9, 28, 31, 41, 42]. Took 8.87184476852417 to run optim func\n",
      "Er: 0.9869729674114611(5) of [12, 21, 24, 29, 31]. Took 8.82037878036499 to run optim func\n",
      "Er: 3.4542173354132064(2) of [4, 16]. Took 8.92910361289978 to run optim func\n",
      "Er: 3.4437779989164103(2) of [1, 4]. Took 8.928277969360352 to run optim func\n",
      "Er: 0.027464576946962246(4) of [0, 11, 17, 26]. Took 8.812109470367432 to run optim func\n",
      "Er: 0.9934032731026722(3) of [1, 11, 19]. Took 8.791546821594238 to run optim func\n",
      "Er: 0.0(2) of [0, 1]. Took 8.862345695495605 to run optim func\n",
      "Er: 6.669612358229566(5) of [5, 6, 13, 15, 19]. Took 8.88724684715271 to run optim func\n",
      "Er: 3.4281690865381167(3) of [0, 4, 5]. Took 8.792550802230835 to run optim func\n",
      "Er: 3.4471356801011668(5) of [3, 4, 5, 7, 8]. Took 8.773302793502808 to run optim func\n",
      "Er: 94588889.81316468(5) of [0, 9, 12, 14, 22]. Took 8.881252765655518 to run optim func\n",
      "Er: 3.4471356801011668(5) of [3, 4, 7, 10, 11]. Took 8.796760559082031 to run optim func\n",
      "Er: 0.9923089143357534(4) of [1, 2, 8, 13]. Took 8.840988159179688 to run optim func\n",
      "Er: 94588887.55903213(3) of [5, 9, 10]. Took 8.828854084014893 to run optim func\n",
      "Er: 26.21279735360239(2) of [7, 13]. Took 8.833406209945679 to run optim func\n",
      "Er: 3.4437779989164103(5) of [1, 4, 5, 10, 12]. Took 8.741793632507324 to run optim func\n",
      "Er: 6.666517167722234(5) of [3, 5, 6, 10, 11]. Took 8.865334272384644 to run optim func\n",
      "Er: 6.666517167722234(4) of [3, 5, 6, 12]. Took 8.878683805465698 to run optim func\n",
      "Er: 6.663611349361991(5) of [5, 11, 23, 24, 25]. Took 8.791637182235718 to run optim func\n",
      "Er: 0.9927244001668996(3) of [1, 3, 16]. Took 8.89761734008789 to run optim func\n",
      "Er: 0.9945458476932577(2) of [3, 14]. Took 8.895307779312134 to run optim func\n",
      "Er: 2012.9657963427592(3) of [8, 10, 30]. Took 8.806954145431519 to run optim func\n",
      "Er: 0.9923407594641147(4) of [12, 14, 15, 17]. Took 8.846782922744751 to run optim func\n",
      "Er: 0.9928236333176026(2) of [3, 6]. Took 8.815811157226562 to run optim func\n",
      "Er: 0.9927244001668996(4) of [1, 3, 5, 10]. Took 8.885829210281372 to run optim func\n",
      "Er: 38.430915367240495(3) of [1, 8, 9]. Took 8.79422926902771 to run optim func\n",
      "Er: 6.663614537411631(5) of [1, 5, 8, 9, 14]. Took 8.841908931732178 to run optim func\n",
      "Er: 6.50982580948601(5) of [0, 5, 6, 12, 13]. Took 8.80375623703003 to run optim func\n",
      "Er: 0.9923089143357534(4) of [1, 2, 11, 14]. Took 8.779173374176025 to run optim func\n",
      "Er: 3.442032723868346(3) of [4, 11, 12]. Took 8.785592794418335 to run optim func\n",
      "Er: 2032.549197485835(5) of [6, 10, 13, 18, 27]. Took 8.863245248794556 to run optim func\n",
      "Er: 25.800394917922773(2) of [13, 19]. Took 8.900664329528809 to run optim func\n",
      "Er: 38.43008496905874(4) of [8, 11, 13, 19]. Took 8.918093204498291 to run optim func\n",
      "Er: 6.669612358229566(3) of [5, 6, 11]. Took 8.848710536956787 to run optim func\n",
      "Iter: 0, Best fit: [0.] at [1.         1.         0.75095848 0.64240519 1.         0.49851304\n",
      " 0.         0.81009051 0.52267074 0.         0.97613985 1.\n",
      " 0.         0.02366807 1.         0.88265962 0.07817568 0.64216173\n",
      " 0.         0.12321599 0.52363997 0.36094298 0.         0.28305361\n",
      " 0.         0.6807384  0.21319391 0.22603897 1.         0.\n",
      " 0.24760763 0.50000497 0.54097681 1.         0.08196455 0.\n",
      " 0.20804076 0.67394064 0.63860562 0.80194841 0.38806352 0.42879003\n",
      " 0.54543226 0.99501256 0.         1.         0.09137838 0.95105424\n",
      " 5.        ]\n",
      "Er: 0.03150536445301944(3) of [0, 2, 3]. Took 8.945209741592407 to run optim func\n",
      "Er: 94588889.82201563(2) of [2, 9]. Took 8.829212427139282 to run optim func\n",
      "Er: 3.4437779989164103(5) of [1, 4, 8, 9, 10]. Took 8.984462976455688 to run optim func\n",
      "Er: 3.4471356801011668(2) of [3, 4]. Took 8.830345153808594 to run optim func\n",
      "Er: 3.4281690865381167(4) of [0, 4, 6, 8]. Took 8.85293197631836 to run optim func\n",
      "Er: 0.9927244001668996(5) of [1, 3, 7, 11, 22]. Took 8.938345670700073 to run optim func\n",
      "Er: 0.0(2) of [0, 1]. Took 8.965863466262817 to run optim func\n",
      "Er: 6.663614537411631(5) of [1, 5, 7, 9, 19]. Took 8.85309624671936 to run optim func\n",
      "Er: 0.028193402040551107(5) of [0, 3, 10, 20, 22]. Took 8.813467025756836 to run optim func\n",
      "Er: 0.028193402040551107(5) of [0, 3, 4, 7, 8]. Took 8.891132593154907 to run optim func\n",
      "Er: 3.552939571225447(2) of [4, 5]. Took 8.975482702255249 to run optim func\n",
      "Er: 0.03150536445301944(2) of [0, 2]. Took 8.726422309875488 to run optim func\n",
      "Er: 0.03150536445301944(5) of [0, 2, 3, 5, 11]. Took 8.881246328353882 to run optim func\n",
      "Er: 3.552939571225447(5) of [4, 5, 14, 15, 16]. Took 8.887615203857422 to run optim func\n",
      "Er: 3.4499502692389874(5) of [4, 14, 17, 20, 23]. Took 8.842137813568115 to run optim func\n",
      "Er: 2012.9657963427592(5) of [8, 10, 19, 27, 33]. Took 8.895459651947021 to run optim func\n",
      "Er: 3.4471356801011668(5) of [3, 4, 5, 7, 9]. Took 8.948227882385254 to run optim func\n",
      "Er: 0.03150536445301944(2) of [0, 2]. Took 8.93167495727539 to run optim func\n",
      "Er: 38.43364730744468(5) of [8, 14, 15, 17, 19]. Took 8.825089931488037 to run optim func\n",
      "Er: 0.9934032731026722(5) of [1, 11, 13, 15, 17]. Took 8.901890993118286 to run optim func\n",
      "Er: 0.9923089143357534(2) of [1, 2]. Took 8.91834306716919 to run optim func\n",
      "Er: 0.028193402040551107(3) of [0, 3, 5]. Took 8.827811002731323 to run optim func\n",
      "Er: 0.9927244001668996(3) of [1, 3, 7]. Took 8.913701295852661 to run optim func\n",
      "Er: 3.4471356801011668(5) of [3, 4, 7, 8, 15]. Took 8.956265687942505 to run optim func\n",
      "Er: 3.552939571225447(2) of [4, 5]. Took 8.951359033584595 to run optim func\n",
      "Er: 0.9923089143357534(5) of [1, 2, 6, 12, 14]. Took 8.911575317382812 to run optim func\n",
      "Er: 0.041836072607570524(2) of [0, 6]. Took 8.876185894012451 to run optim func\n",
      "Er: 0.9977779957360353(2) of [2, 3]. Took 8.840187788009644 to run optim func\n",
      "Er: 0.03150536445301944(5) of [0, 2, 6, 14, 15]. Took 8.734179258346558 to run optim func\n",
      "Er: 0.03150536445301944(2) of [0, 2]. Took 8.756506443023682 to run optim func\n",
      "Er: 38.43218710625997(5) of [3, 8, 11, 13, 15]. Took 9.032418727874756 to run optim func\n",
      "Er: 21.986555086976566(2) of [5, 13]. Took 8.925638198852539 to run optim func\n",
      "Er: 1.2628447703171892(2) of [2, 7]. Took 8.894937515258789 to run optim func\n",
      "Er: 0.9927244001668996(4) of [1, 3, 8, 11]. Took 8.858054161071777 to run optim func\n",
      "Er: 1.2594126040911777(2) of [3, 7]. Took 8.790315866470337 to run optim func\n",
      "Er: 0.0(5) of [0, 1, 6, 9, 12]. Took 8.800048589706421 to run optim func\n",
      "Er: 3.452825559427878(2) of [4, 6]. Took 8.922360897064209 to run optim func\n",
      "Er: 0.0(5) of [0, 1, 2, 4, 10]. Took 8.89918851852417 to run optim func\n",
      "Er: 0.9923089143357534(3) of [1, 2, 3]. Took 8.837668657302856 to run optim func\n",
      "Er: 3.4437779989164103(3) of [1, 4, 5]. Took 8.908636808395386 to run optim func\n",
      "Er: 3.442032723868346(2) of [4, 11]. Took 8.787280082702637 to run optim func\n",
      "Er: 0.9933463744971378(4) of [1, 12, 14, 15]. Took 8.756431818008423 to run optim func\n",
      "Er: 0.03150536445301944(3) of [0, 2, 3]. Took 8.88069462776184 to run optim func\n",
      "Er: 0.028193402040551107(3) of [0, 3, 4]. Took 8.958173751831055 to run optim func\n",
      "Er: 0.9923089143357534(5) of [1, 2, 6, 7, 11]. Took 8.85408878326416 to run optim func\n",
      "Er: 0.9944098298311174(3) of [2, 6, 7]. Took 8.750571489334106 to run optim func\n",
      "Er: 6.666517167722234(2) of [3, 5]. Took 8.856120586395264 to run optim func\n",
      "Er: 1.2628447703171892(2) of [2, 7]. Took 8.912719488143921 to run optim func\n",
      "Er: 2032.5440200337368(3) of [3, 10, 14]. Took 8.920230150222778 to run optim func\n",
      "Er: 0.0(5) of [0, 1, 8, 12, 18]. Took 8.85744857788086 to run optim func\n",
      "Er: 3.4281690865381167(5) of [0, 4, 7, 15, 18]. Took 8.876056432723999 to run optim func\n",
      "Er: 0.028193402040551107(5) of [0, 3, 8, 9, 10]. Took 8.905516386032104 to run optim func\n",
      "Er: 0.0(2) of [0, 1]. Took 8.83027696609497 to run optim func\n",
      "Er: 3.4437779989164103(2) of [1, 4]. Took 8.959439516067505 to run optim func\n",
      "Er: 6.667858498825343(3) of [2, 5, 9]. Took 8.826775789260864 to run optim func\n",
      "Er: 0.0(5) of [0, 1, 3, 5, 6]. Took 8.762948751449585 to run optim func\n",
      "Er: 0.9916685821841694(5) of [1, 6, 7, 8, 9]. Took 8.791801929473877 to run optim func\n",
      "Er: 0.9927244001668996(4) of [1, 3, 8, 9]. Took 8.878792524337769 to run optim func\n",
      "Er: 0.041836072607570524(5) of [0, 6, 7, 10, 16]. Took 8.84049105644226 to run optim func\n",
      "Er: 0.9927244001668996(2) of [1, 3]. Took 8.834620714187622 to run optim func\n",
      "Er: 0.03150536445301944(5) of [0, 2, 4, 5, 7]. Took 8.844669580459595 to run optim func\n",
      "Er: 3.552939571225447(5) of [4, 5, 9, 12, 15]. Took 8.866407632827759 to run optim func\n",
      "Er: 0.9944098298311174(2) of [2, 6]. Took 8.76257610321045 to run optim func\n",
      "Er: 6.654822252903935(5) of [5, 18, 28, 30, 40]. Took 8.729004144668579 to run optim func\n",
      "Er: 3.4281690865381167(2) of [0, 4]. Took 8.794212579727173 to run optim func\n",
      "Er: 0.9923089143357534(3) of [1, 2, 5]. Took 8.913951635360718 to run optim func\n",
      "Er: 1.2532813601615411(5) of [1, 7, 9, 15, 17]. Took 8.83713984489441 to run optim func\n",
      "Er: 38.43218710625997(5) of [3, 8, 9, 10, 11]. Took 8.817898750305176 to run optim func\n",
      "Er: 3.4327841639120464(3) of [4, 18, 22]. Took 8.762514114379883 to run optim func\n",
      "Er: 3.4437779989164103(3) of [1, 4, 5]. Took 8.843515157699585 to run optim func\n",
      "Er: 0.03150536445301944(5) of [0, 2, 10, 11, 14]. Took 8.87134075164795 to run optim func\n",
      "Er: 0.9934032731026722(4) of [1, 11, 13, 19]. Took 8.823520183563232 to run optim func\n",
      "Er: 0.0(2) of [0, 1]. Took 8.865229845046997 to run optim func\n",
      "Er: 6.669612358229566(5) of [5, 6, 13, 15, 19]. Took 8.833329200744629 to run optim func\n",
      "Er: 0.028193402040551107(2) of [0, 3]. Took 8.809844255447388 to run optim func\n",
      "Er: 0.9927244001668996(5) of [1, 3, 4, 6, 7]. Took 8.747017860412598 to run optim func\n",
      "Er: 94588889.81316468(5) of [0, 9, 10, 14, 22]. Took 8.840029239654541 to run optim func\n",
      "Er: 0.9923089143357534(5) of [1, 2, 3, 4, 7]. Took 8.853133201599121 to run optim func\n",
      "Er: 0.9923089143357534(4) of [1, 2, 7, 8]. Took 8.876680374145508 to run optim func\n",
      "Er: 0.9927244001668996(3) of [1, 3, 5]. Took 8.82008671760559 to run optim func\n",
      "Er: 0.7642198200087744(2) of [0, 7]. Took 8.824356079101562 to run optim func\n",
      "Er: 3.4437779989164103(5) of [1, 4, 5, 7, 10]. Took 8.853383541107178 to run optim func\n",
      "Er: 6.666517167722234(5) of [3, 5, 6, 9, 10]. Took 8.83985948562622 to run optim func\n",
      "Er: 0.9927244001668996(3) of [1, 3, 5]. Took 8.777928590774536 to run optim func\n",
      "Er: 3.552939571225447(5) of [4, 5, 10, 11, 12]. Took 8.799875020980835 to run optim func\n",
      "Er: 0.9927244001668996(3) of [1, 3, 7]. Took 8.783042192459106 to run optim func\n",
      "Er: 3.4471356801011668(2) of [3, 4]. Took 8.73063325881958 to run optim func\n",
      "Er: 0.03150536445301944(4) of [0, 2, 3, 8]. Took 8.783032894134521 to run optim func\n",
      "Er: 3.4281690865381167(4) of [0, 4, 8, 12]. Took 8.734195232391357 to run optim func\n",
      "Er: 0.9927244001668996(2) of [1, 3]. Took 8.803852319717407 to run optim func\n",
      "Er: 0.9927244001668996(4) of [1, 3, 4, 5]. Took 8.893366813659668 to run optim func\n",
      "Er: 0.9923089143357534(4) of [1, 2, 6, 8]. Took 8.95130729675293 to run optim func\n",
      "Er: 6.663614537411631(5) of [1, 5, 8, 12, 14]. Took 8.768770933151245 to run optim func\n",
      "Er: 6.50982580948601(5) of [0, 5, 12, 17, 19]. Took 8.77723741531372 to run optim func\n",
      "Er: 0.9923089143357534(3) of [1, 2, 8]. Took 8.911341190338135 to run optim func\n",
      "Er: 0.028193402040551107(4) of [0, 3, 4, 11]. Took 8.790973901748657 to run optim func\n",
      "Er: 6.663614537411631(5) of [1, 5, 6, 10, 13]. Took 8.742745637893677 to run optim func\n",
      "Er: 23.55794250229214(2) of [4, 13]. Took 8.800764322280884 to run optim func\n",
      "Er: 2012.9657963427592(3) of [8, 10, 11]. Took 8.969161748886108 to run optim func\n",
      "Er: 6.666517167722234(2) of [3, 5]. Took 8.841978311538696 to run optim func\n",
      "Iter: 1, Best fit: [0.] at [1.         1.         0.75095848 0.64240519 1.         0.49851304\n",
      " 0.         0.81009051 0.52267074 0.         0.97613985 1.\n",
      " 0.         0.02366807 1.         0.88265962 0.07817568 0.64216173\n",
      " 0.         0.12321599 0.52363997 0.36094298 0.         0.28305361\n",
      " 0.         0.6807384  0.21319391 0.22603897 1.         0.\n",
      " 0.24760763 0.50000497 0.54097681 1.         0.08196455 0.\n",
      " 0.20804076 0.67394064 0.63860562 0.80194841 0.38806352 0.42879003\n",
      " 0.54543226 0.99501256 0.         1.         0.09137838 0.95105424\n",
      " 5.        ]\n",
      "Er: 0.03150536445301944(3) of [0, 2, 3]. Took 8.812066793441772 to run optim func\n",
      "Er: 94588889.82201563(3) of [2, 9, 14]. Took 8.797983646392822 to run optim func\n",
      "Er: 3.4437779989164103(5) of [1, 4, 9, 10, 14]. Took 8.775599956512451 to run optim func\n",
      "Er: 0.9927244001668996(3) of [1, 3, 4]. Took 8.792288541793823 to run optim func\n",
      "Er: 0.0(5) of [0, 1, 4, 8, 11]. Took 8.970317363739014 to run optim func\n",
      "Er: 0.9927244001668996(5) of [1, 3, 7, 11, 15]. Took 8.848835706710815 to run optim func\n",
      "Er: 0.0(3) of [0, 1, 2]. Took 8.738940715789795 to run optim func\n",
      "Er: 6.663614537411631(5) of [1, 5, 7, 9, 20]. Took 8.787967205047607 to run optim func\n",
      "Er: 0.028193402040551107(5) of [0, 3, 10, 20, 37]. Took 8.764561414718628 to run optim func\n",
      "Er: 0.028193402040551107(5) of [0, 3, 4, 7, 14]. Took 8.768147468566895 to run optim func\n",
      "Er: 3.552939571225447(2) of [4, 5]. Took 8.836440563201904 to run optim func\n",
      "Er: 0.03150536445301944(3) of [0, 2, 7]. Took 8.907850503921509 to run optim func\n",
      "Er: 0.03150536445301944(5) of [0, 2, 3, 5, 11]. Took 8.81497073173523 to run optim func\n",
      "Er: 3.552939571225447(5) of [4, 5, 11, 14, 15]. Took 8.759560108184814 to run optim func\n",
      "Er: 3.4281690865381167(5) of [0, 4, 14, 17, 20]. Took 8.745942831039429 to run optim func\n",
      "Er: 2031.668347031615(5) of [10, 19, 27, 33, 37]. Took 8.685052394866943 to run optim func\n",
      "Er: 3.4471356801011668(5) of [3, 4, 7, 10, 14]. Took 8.689456462860107 to run optim func\n",
      "Er: 0.03150536445301944(2) of [0, 2]. Took 8.829366683959961 to run optim func\n",
      "Er: 38.43008496905874(5) of [8, 11, 14, 15, 17]. Took 8.859339475631714 to run optim func\n",
      "Er: 0.0(5) of [0, 1, 4, 11, 15]. Took 8.745922088623047 to run optim func\n",
      "Er: 0.9923089143357534(4) of [1, 2, 3, 5]. Took 8.751610517501831 to run optim func\n",
      "Er: 0.028193402040551107(4) of [0, 3, 5, 10]. Took 8.763962984085083 to run optim func\n",
      "Er: 0.9927244001668996(4) of [1, 3, 7, 11]. Took 8.865171432495117 to run optim func\n",
      "Er: 3.4471356801011668(5) of [3, 4, 7, 15, 20]. Took 8.81440806388855 to run optim func\n",
      "Er: 3.552939571225447(2) of [4, 5]. Took 8.862513542175293 to run optim func\n",
      "Er: 0.9923089143357534(5) of [1, 2, 14, 17, 22]. Took 8.820701360702515 to run optim func\n",
      "Er: 0.041836072607570524(3) of [0, 6, 11]. Took 8.836422681808472 to run optim func\n",
      "Er: 0.9977779957360353(2) of [2, 3]. Took 8.775664329528809 to run optim func\n",
      "Er: 0.03150536445301944(5) of [0, 2, 11, 14, 15]. Took 8.870217084884644 to run optim func\n",
      "Er: 0.0(3) of [0, 1, 2]. Took 9.06645941734314 to run optim func\n",
      "Er: 38.43218710625997(5) of [3, 8, 10, 11, 13]. Took 9.20228624343872 to run optim func\n",
      "Er: 6.667179773821045(3) of [5, 14, 15]. Took 8.976094722747803 to run optim func\n",
      "Er: 1.2628447703171892(2) of [2, 7]. Took 8.94820261001587 to run optim func\n",
      "Er: 0.9927244001668996(4) of [1, 3, 8, 11]. Took 8.866944789886475 to run optim func\n",
      "Er: 1.2594126040911777(2) of [3, 7]. Took 8.971774101257324 to run optim func\n",
      "Er: 0.0(5) of [0, 1, 4, 6, 9]. Took 9.04307746887207 to run optim func\n",
      "Er: 3.452825559427878(2) of [4, 6]. Took 9.07910418510437 to run optim func\n",
      "Er: 0.0(5) of [0, 1, 2, 4, 10]. Took 8.9583158493042 to run optim func\n",
      "Er: 0.9923089143357534(3) of [1, 2, 3]. Took 9.132791757583618 to run optim func\n",
      "Er: 3.4437779989164103(3) of [1, 4, 5]. Took 9.031055927276611 to run optim func\n",
      "Er: 3.442032723868346(3) of [4, 11, 15]. Took 9.038293600082397 to run optim func\n",
      "Er: 0.9921933762615076(5) of [1, 14, 15, 21, 22]. Took 9.096648454666138 to run optim func\n",
      "Er: 0.0(4) of [0, 1, 2, 3]. Took 9.07404637336731 to run optim func\n",
      "Er: 0.028193402040551107(3) of [0, 3, 4]. Took 8.966925144195557 to run optim func\n",
      "Er: 0.0(5) of [0, 1, 2, 7, 11]. Took 9.121362924575806 to run optim func\n",
      "Er: 1.2628447703171892(3) of [2, 7, 8]. Took 9.074257373809814 to run optim func\n",
      "Er: 3.4471356801011668(3) of [3, 4, 6]. Took 9.111093759536743 to run optim func\n",
      "Er: 1.2628447703171892(4) of [2, 7, 11, 25]. Took 9.0888192653656 to run optim func\n",
      "Er: 0.9977779957360353(3) of [2, 3, 10]. Took 8.98354458808899 to run optim func\n",
      "Er: 0.0(5) of [0, 1, 3, 4, 13]. Took 9.033918142318726 to run optim func\n",
      "Er: 0.028193402040551107(5) of [0, 3, 4, 7, 8]. Took 9.013418674468994 to run optim func\n",
      "Er: 0.028193402040551107(5) of [0, 3, 8, 10, 11]. Took 9.103119611740112 to run optim func\n",
      "Er: 0.0(2) of [0, 1]. Took 9.045573949813843 to run optim func\n",
      "Er: 0.0(2) of [0, 1]. Took 8.94831919670105 to run optim func\n",
      "Er: 0.9977779957360353(3) of [2, 3, 5]. Took 8.949333667755127 to run optim func\n",
      "Er: 0.0(5) of [0, 1, 3, 5, 6]. Took 8.89912724494934 to run optim func\n",
      "Er: 0.9916685821841694(5) of [1, 6, 7, 8, 9]. Took 8.96869421005249 to run optim func\n",
      "Er: 0.9927244001668996(5) of [1, 3, 8, 9, 10]. Took 8.811759948730469 to run optim func\n",
      "Er: 0.041836072607570524(5) of [0, 6, 7, 10, 16]. Took 8.839627265930176 to run optim func\n",
      "Er: 0.9927244001668996(3) of [1, 3, 11]. Took 8.889901161193848 to run optim func\n",
      "Er: 0.03150536445301944(5) of [0, 2, 4, 5, 7]. Took 8.88200306892395 to run optim func\n",
      "Er: 3.552939571225447(5) of [4, 5, 9, 14, 15]. Took 8.876085758209229 to run optim func\n",
      "Er: 1.2628447703171892(2) of [2, 7]. Took 8.85077452659607 to run optim func\n",
      "Er: 6.666517167722234(5) of [3, 5, 18, 28, 30]. Took 8.81494951248169 to run optim func\n",
      "Er: 3.4281690865381167(2) of [0, 4]. Took 8.851795196533203 to run optim func\n",
      "Er: 0.9923089143357534(2) of [1, 2]. Took 8.908042669296265 to run optim func\n",
      "Er: 1.2532813601615411(5) of [1, 7, 10, 15, 17]. Took 8.993821382522583 to run optim func\n",
      "Er: 38.43218710625997(5) of [3, 8, 9, 10, 11]. Took 8.845832824707031 to run optim func\n",
      "Er: 3.251826055320596(4) of [4, 7, 22, 33]. Took 8.839560508728027 to run optim func\n",
      "Er: 0.0(4) of [0, 1, 2, 4]. Took 8.858420610427856 to run optim func\n",
      "Er: 0.03150536445301944(5) of [0, 2, 10, 11, 14]. Took 8.829663753509521 to run optim func\n",
      "Er: 0.9934032731026722(4) of [1, 11, 19, 34]. Took 8.840009927749634 to run optim func\n",
      "Er: 0.0(2) of [0, 1]. Took 9.018278121948242 to run optim func\n",
      "Er: 6.669612358229566(5) of [5, 6, 15, 19, 25]. Took 8.88512134552002 to run optim func\n",
      "Er: 0.028193402040551107(3) of [0, 3, 4]. Took 8.833231687545776 to run optim func\n",
      "Er: 0.9927244001668996(5) of [1, 3, 4, 7, 8]. Took 8.846992492675781 to run optim func\n",
      "Er: 2032.3737145825437(5) of [0, 10, 14, 22, 33]. Took 8.893836736679077 to run optim func\n",
      "Er: 0.9923089143357534(5) of [1, 2, 3, 4, 7]. Took 8.799969911575317 to run optim func\n",
      "Er: 0.9923089143357534(4) of [1, 2, 7, 8]. Took 8.970712900161743 to run optim func\n",
      "Er: 0.9927244001668996(4) of [1, 3, 5, 10]. Took 8.996971845626831 to run optim func\n",
      "Er: 3.4281690865381167(2) of [0, 4]. Took 8.969412088394165 to run optim func\n",
      "Er: 3.4437779989164103(5) of [1, 4, 7, 10, 14]. Took 9.027973651885986 to run optim func\n",
      "Er: 6.666517167722234(5) of [3, 5, 6, 10, 11]. Took 8.923301696777344 to run optim func\n",
      "Er: 0.9927244001668996(4) of [1, 3, 5, 6]. Took 9.084561824798584 to run optim func\n",
      "Er: 3.552939571225447(5) of [4, 5, 10, 11, 12]. Took 9.066494941711426 to run optim func\n",
      "Er: 0.9927244001668996(4) of [1, 3, 7, 14]. Took 9.483380556106567 to run optim func\n",
      "Er: 3.4471356801011668(2) of [3, 4]. Took 9.181951522827148 to run optim func\n",
      "Er: 0.03150536445301944(4) of [0, 2, 3, 8]. Took 9.028517961502075 to run optim func\n",
      "Er: 3.4281690865381167(4) of [0, 4, 8, 12]. Took 9.071509599685669 to run optim func\n",
      "Er: 0.9927244001668996(2) of [1, 3]. Took 9.041379928588867 to run optim func\n",
      "Er: 0.9927244001668996(4) of [1, 3, 4, 5]. Took 9.050834655761719 to run optim func\n",
      "Er: 0.9923089143357534(4) of [1, 2, 3, 6]. Took 9.082804441452026 to run optim func\n",
      "Er: 3.4437779989164103(5) of [1, 4, 5, 8, 12]. Took 9.114720106124878 to run optim func\n",
      "Er: 6.50982580948601(5) of [0, 5, 17, 20, 23]. Took 9.076495885848999 to run optim func\n",
      "Er: 0.9923089143357534(3) of [1, 2, 11]. Took 9.1241135597229 to run optim func\n",
      "Er: 0.028193402040551107(5) of [0, 3, 4, 11, 12]. Took 9.021339416503906 to run optim func\n",
      "Er: 6.663614537411631(5) of [1, 5, 6, 10, 13]. Took 9.352414846420288 to run optim func\n",
      "Er: 3.4437779989164103(2) of [1, 4]. Took 9.358407974243164 to run optim func\n",
      "Er: 2012.9657963427592(4) of [8, 10, 11, 13]. Took 9.397956371307373 to run optim func\n",
      "Er: 6.666517167722234(2) of [3, 5]. Took 9.431644678115845 to run optim func\n",
      "Iter: 2, Best fit: [0.] at [1.         1.         0.75095848 0.64240519 1.         0.49851304\n",
      " 0.         0.81009051 0.52267074 0.         0.97613985 1.\n",
      " 0.         0.02366807 1.         0.88265962 0.07817568 0.64216173\n",
      " 0.         0.12321599 0.52363997 0.36094298 0.         0.28305361\n",
      " 0.         0.6807384  0.21319391 0.22603897 1.         0.\n",
      " 0.24760763 0.50000497 0.54097681 1.         0.08196455 0.\n",
      " 0.20804076 0.67394064 0.63860562 0.80194841 0.38806352 0.42879003\n",
      " 0.54543226 0.99501256 0.         1.         0.09137838 0.95105424\n",
      " 5.        ]\n",
      "best_x is  [1.         1.         0.75095848 0.64240519 1.         0.49851304\n",
      " 0.         0.81009051 0.52267074 0.         0.97613985 1.\n",
      " 0.         0.02366807 1.         0.88265962 0.07817568 0.64216173\n",
      " 0.         0.12321599 0.52363997 0.36094298 0.         0.28305361\n",
      " 0.         0.6807384  0.21319391 0.22603897 1.         0.\n",
      " 0.24760763 0.50000497 0.54097681 1.         0.08196455 0.\n",
      " 0.20804076 0.67394064 0.63860562 0.80194841 0.38806352 0.42879003\n",
      " 0.54543226 0.99501256 0.         1.         0.09137838 0.95105424\n",
      " 5.        ] best_y is [0.]\n"
     ]
    }
   ],
   "source": [
    "catPsoWithDim.run()\n",
    "print('best_x is ', catPsoWithDim.gbest_x, 'best_y is', catPsoWithDim.gbest_y)"
   ]
  },
  {
   "cell_type": "code",
   "execution_count": 72,
   "metadata": {},
   "outputs": [],
   "source": [
    "import dill\n",
    "\n",
    "with open('cat_pso_with_dim_50000_after_3_iter.dill', 'wb') as f:\n",
    "    dill.dump(catPsoWithDim, f)"
   ]
  },
  {
   "cell_type": "code",
   "execution_count": 32,
   "metadata": {},
   "outputs": [],
   "source": [
    "metrics = \"ACoCo AHF AoCiH BugNum CAMC CAMC-cvc CC CoCo CoCoMn CoCoMx DOER Final FOut Getters HSD HSE HSV IR IRC IRCA IRLoC LCOM5 LCOM5-cvc LoC MHF MIdx MMAC MMAC-cvc NAPC NCSS NHD NHD-cvc NoBL NoCA NoCC NoCL NoCM NoGA NoII NOM NoMP NOMPMx NOMR NoOA NoOM NOP NoSA NoSMP NOSMPMx NoTP NULLs PCN PVN PVNMN PVNMx RAF SAHF SCOM SCOM-cvc Setters SMHF\".split(\" \")"
   ]
  },
  {
   "cell_type": "code",
   "execution_count": 33,
   "metadata": {},
   "outputs": [],
   "source": [
    "def map_metrics(probs, n):\n",
    "    topProbColumnsIdxs = sorted(enumerate(probs), key=lambda x: x[1], reverse=True)\n",
    "    idxs = list(sorted(list(map(lambda el: round(el[0]), topProbColumnsIdxs[:round(n)]))))\n",
    "    return np.array(metrics)[idxs]"
   ]
  },
  {
   "cell_type": "code",
   "execution_count": 29,
   "metadata": {},
   "outputs": [],
   "source": [
    "import dill\n",
    "with open('cat_pso_with_dim_50000_after_3_iter.dill', 'rb') as f:\n",
    "    catPsoWithDim = dill.load(f)"
   ]
  },
  {
   "cell_type": "code",
   "execution_count": 37,
   "metadata": {},
   "outputs": [
    {
     "data": {
      "text/plain": [
       "[\"['ACoCo' 'AHF' 'CAMC' 'CoCoMn' 'NOSMPMx'], 0.0\",\n",
       " \"['ACoCo' 'AHF' 'AoCiH' 'BugNum' 'NOSMPMx'], 0.0\",\n",
       " \"['ACoCo' 'AHF' 'CAMC' 'Final' 'NOSMPMx'], 0.0\",\n",
       " \"['ACoCo' 'AHF' 'AoCiH' 'CAMC' 'NOSMPMx'], 0.0\",\n",
       " \"['ACoCo' 'AHF' 'CC' 'CoCoMx' 'NOSMPMx'], 0.0\",\n",
       " \"['ACoCo' 'AHF' 'CAMC' 'Final' 'NOSMPMx'], 0.0\",\n",
       " \"['ACoCo' 'AHF' 'AoCiH' 'BugNum' 'NOSMPMx'], 0.0\",\n",
       " \"['ACoCo' 'AHF' 'AoCiH' 'CoCo' 'NOSMPMx'], 0.0\",\n",
       " \"['ACoCo' 'AHF' 'CoCoMn' 'FOut' 'NOSMPMx'], 0.0\",\n",
       " \"['ACoCo' 'AHF' 'BugNum' 'CAMC-cvc' 'NOSMPMx'], 0.0\",\n",
       " \"['ACoCo' 'AHF' 'CAMC' 'CoCoMx' 'NOSMPMx'], 0.0\",\n",
       " \"['ACoCo' 'AHF' 'BugNum' 'CAMC-cvc' 'NOSMPMx'], 0.0\",\n",
       " \"['ACoCo' 'AHF' 'AoCiH' 'CAMC' 'NOSMPMx'], 0.0\",\n",
       " \"['ACoCo' 'AHF' 'BugNum' 'CAMC-cvc' 'NOSMPMx'], 0.0\"]"
      ]
     },
     "execution_count": 37,
     "metadata": {},
     "output_type": "execute_result"
    }
   ],
   "source": [
    "[f\"{map_metrics(catPsoWithDim.pbest_x[i], 5)}, {x[0]}\" for i, x in enumerate(catPsoWithDim.pbest_y) if x == 0]"
   ]
  },
  {
   "cell_type": "code",
   "execution_count": null,
   "metadata": {},
   "outputs": [],
   "source": [
    "# [(array(['ACoCo', 'AHF', 'CAMC', 'CoCoMn', 'NOSMPMx'], dtype='<U9'),\n",
    "#   array([0.])),\n",
    "#  (array(['ACoCo', 'AHF', 'AoCiH', 'BugNum', 'NOSMPMx'], dtype='<U9'),\n",
    "#   array([0.])),\n",
    "#  (array(['ACoCo', 'AHF', 'CAMC', 'Final', 'NOSMPMx'], dtype='<U9'),\n",
    "#   array([0.])),\n",
    "#  (array(['ACoCo', 'AHF', 'AoCiH', 'CAMC', 'NOSMPMx'], dtype='<U9'),\n",
    "#   array([0.])),\n",
    "#  (array(['ACoCo', 'AHF', 'CC', 'CoCoMx', 'NOSMPMx'], dtype='<U9'),\n",
    "#   array([0.])),\n",
    "#  (array(['ACoCo', 'AHF', 'CAMC', 'Final', 'NOSMPMx'], dtype='<U9'),\n",
    "#   array([0.])),\n",
    "#  (array(['ACoCo', 'AHF', 'AoCiH', 'BugNum', 'NOSMPMx'], dtype='<U9'),\n",
    "#   array([0.])),\n",
    "#  (array(['ACoCo', 'AHF', 'AoCiH', 'CoCo', 'NOSMPMx'], dtype='<U9'),\n",
    "#   array([0.])),\n",
    "#  (array(['ACoCo', 'AHF', 'CoCoMn', 'FOut', 'NOSMPMx'], dtype='<U9'),\n",
    "#   array([0.])),\n",
    "#  (array(['ACoCo', 'AHF', 'BugNum', 'CAMC-cvc', 'NOSMPMx'], dtype='<U9'),\n",
    "#   array([0.])),\n",
    "#  (array(['ACoCo', 'AHF', 'CAMC', 'CoCoMx', 'NOSMPMx'], dtype='<U9'),\n",
    "#   array([0.])),\n",
    "#  (array(['ACoCo', 'AHF', 'BugNum', 'CAMC-cvc', 'NOSMPMx'], dtype='<U9'),\n",
    "#   array([0.])),\n",
    "#  (array(['ACoCo', 'AHF', 'AoCiH', 'CAMC', 'NOSMPMx'], dtype='<U9'),\n",
    "#   array([0.])),\n",
    "#  (array(['ACoCo', 'AHF', 'BugNum', 'CAMC-cvc', 'NOSMPMx'], dtype='<U9'),\n",
    "#   array([0.]))]"
   ]
  }
 ],
 "metadata": {
  "accelerator": "GPU",
  "colab": {
   "gpuType": "T4",
   "provenance": []
  },
  "kaggle": {
   "accelerator": "nvidiaTeslaT4",
   "dataSources": [],
   "dockerImageVersionId": 30919,
   "isGpuEnabled": true,
   "isInternetEnabled": true,
   "language": "python",
   "sourceType": "notebook"
  },
  "kernelspec": {
   "display_name": "Python 3 (ipykernel)",
   "language": "python",
   "name": "python3"
  },
  "language_info": {
   "codemirror_mode": {
    "name": "ipython",
    "version": 3
   },
   "file_extension": ".py",
   "mimetype": "text/x-python",
   "name": "python",
   "nbconvert_exporter": "python",
   "pygments_lexer": "ipython3",
   "version": "3.12.3"
  }
 },
 "nbformat": 4,
 "nbformat_minor": 4
}
